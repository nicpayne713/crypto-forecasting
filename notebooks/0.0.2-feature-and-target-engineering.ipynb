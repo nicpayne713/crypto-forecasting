{
 "metadata": {
  "language_info": {
   "codemirror_mode": {
    "name": "ipython",
    "version": 3
   },
   "file_extension": ".py",
   "mimetype": "text/x-python",
   "name": "python",
   "nbconvert_exporter": "python",
   "pygments_lexer": "ipython3",
   "version": "3.8.8-final"
  },
  "orig_nbformat": 2,
  "kernelspec": {
   "name": "python3",
   "display_name": "Python 3.8.8 64-bit",
   "metadata": {
    "interpreter": {
     "hash": "2976a8a3de213ce3ad53845fb35681d32c4b64292bc470154499ced85dafa701"
    }
   }
  }
 },
 "nbformat": 4,
 "nbformat_minor": 2,
 "cells": [
  {
   "cell_type": "code",
   "execution_count": 1,
   "metadata": {},
   "outputs": [
    {
     "output_type": "stream",
     "name": "stdout",
     "text": [
      "'Working Directory: /home/nic/git/crypto-forecasting'\n"
     ]
    }
   ],
   "source": [
    "from pathlib import Path\n",
    "import plotly.express as px\n",
    "import pandas as pd\n",
    "import os\n",
    "from pprint import pprint\n",
    "import numpy as np\n",
    "\n",
    "from datetime import datetime\n",
    "if \"notebooks\" in os.getcwd():\n",
    "    os.chdir('..')\n",
    "\n",
    "pprint(f'Working Directory: {os.getcwd()}')\n"
   ]
  },
  {
   "cell_type": "code",
   "execution_count": 2,
   "metadata": {},
   "outputs": [],
   "source": [
    "def load_data(path: str = './data/01_raw/Binance_ADAUSDT_minute.csv', aggregation = 'mean', resample = '15T'):\n",
    "    data = pd.read_csv(path,\n",
    "    dtype={'unix':int, 'symbol': str, 'open': float, 'high': float, 'low': float, 'close': float, 'Volume ADA':         float, 'Volume USDT': float, 'tradecount': int},\n",
    "    skiprows=1)\n",
    "    data.loc[:, 'date'] = pd.to_datetime(data.loc[:,'date'], infer_datetime_format=True)\n",
    "    return data.set_index('date').sort_index().resample(resample).agg(aggregation).fillna(method='ffill').astype('float32')"
   ]
  },
  {
   "cell_type": "code",
   "execution_count": 3,
   "metadata": {},
   "outputs": [],
   "source": [
    "data = load_data(resample='1D')"
   ]
  },
  {
   "cell_type": "code",
   "execution_count": 4,
   "metadata": {},
   "outputs": [
    {
     "output_type": "execute_result",
     "data": {
      "text/plain": [
       "                    unix      open      high       low     close  \\\n",
       "date                                                               \n",
       "2020-09-11  1.599863e+12  0.096630  0.096684  0.096581  0.096638   \n",
       "2020-09-12  1.599912e+12  0.096583  0.096634  0.096529  0.096585   \n",
       "2020-09-13  1.599998e+12  0.096170  0.096237  0.096100  0.096172   \n",
       "2020-09-14  1.600085e+12  0.095618  0.095688  0.095550  0.095622   \n",
       "2020-09-15  1.600171e+12  0.095509  0.095577  0.095440  0.095511   \n",
       "\n",
       "               Volume ADA   Volume USDT  tradecount  \n",
       "date                                                 \n",
       "2020-09-11  147057.625000  14221.708008   32.291458  \n",
       "2020-09-12  118968.531250  11502.777344   31.817362  \n",
       "2020-09-13  167744.078125  16108.962891   43.836807  \n",
       "2020-09-14  154802.890625  14840.880859   39.927776  \n",
       "2020-09-15  158953.546875  15184.172852   36.961113  "
      ],
      "text/html": "<div>\n<style scoped>\n    .dataframe tbody tr th:only-of-type {\n        vertical-align: middle;\n    }\n\n    .dataframe tbody tr th {\n        vertical-align: top;\n    }\n\n    .dataframe thead th {\n        text-align: right;\n    }\n</style>\n<table border=\"1\" class=\"dataframe\">\n  <thead>\n    <tr style=\"text-align: right;\">\n      <th></th>\n      <th>unix</th>\n      <th>open</th>\n      <th>high</th>\n      <th>low</th>\n      <th>close</th>\n      <th>Volume ADA</th>\n      <th>Volume USDT</th>\n      <th>tradecount</th>\n    </tr>\n    <tr>\n      <th>date</th>\n      <th></th>\n      <th></th>\n      <th></th>\n      <th></th>\n      <th></th>\n      <th></th>\n      <th></th>\n      <th></th>\n    </tr>\n  </thead>\n  <tbody>\n    <tr>\n      <th>2020-09-11</th>\n      <td>1.599863e+12</td>\n      <td>0.096630</td>\n      <td>0.096684</td>\n      <td>0.096581</td>\n      <td>0.096638</td>\n      <td>147057.625000</td>\n      <td>14221.708008</td>\n      <td>32.291458</td>\n    </tr>\n    <tr>\n      <th>2020-09-12</th>\n      <td>1.599912e+12</td>\n      <td>0.096583</td>\n      <td>0.096634</td>\n      <td>0.096529</td>\n      <td>0.096585</td>\n      <td>118968.531250</td>\n      <td>11502.777344</td>\n      <td>31.817362</td>\n    </tr>\n    <tr>\n      <th>2020-09-13</th>\n      <td>1.599998e+12</td>\n      <td>0.096170</td>\n      <td>0.096237</td>\n      <td>0.096100</td>\n      <td>0.096172</td>\n      <td>167744.078125</td>\n      <td>16108.962891</td>\n      <td>43.836807</td>\n    </tr>\n    <tr>\n      <th>2020-09-14</th>\n      <td>1.600085e+12</td>\n      <td>0.095618</td>\n      <td>0.095688</td>\n      <td>0.095550</td>\n      <td>0.095622</td>\n      <td>154802.890625</td>\n      <td>14840.880859</td>\n      <td>39.927776</td>\n    </tr>\n    <tr>\n      <th>2020-09-15</th>\n      <td>1.600171e+12</td>\n      <td>0.095509</td>\n      <td>0.095577</td>\n      <td>0.095440</td>\n      <td>0.095511</td>\n      <td>158953.546875</td>\n      <td>15184.172852</td>\n      <td>36.961113</td>\n    </tr>\n  </tbody>\n</table>\n</div>"
     },
     "metadata": {},
     "execution_count": 4
    }
   ],
   "source": [
    "data.head()"
   ]
  },
  {
   "cell_type": "code",
   "execution_count": 5,
   "metadata": {},
   "outputs": [],
   "source": [
    "# sample target as tomorrow's mean\n",
    "target = (data.high + data.low) / 2\n",
    "data['target_landing'] = target"
   ]
  },
  {
   "cell_type": "code",
   "execution_count": 6,
   "metadata": {},
   "outputs": [],
   "source": [
    "n_preds = 1\n"
   ]
  },
  {
   "cell_type": "code",
   "execution_count": 7,
   "metadata": {},
   "outputs": [],
   "source": [
    "targets = []\n",
    "for i in range(n_preds):\n",
    "    col = f\"y_{i}\"\n",
    "    targets.append(col)\n",
    "    data[col] = np.nan\n",
    "    col_idx = data.columns.get_loc(col)\n",
    "    data.iloc[:, col_idx] = data.target_landing.shift(-i-1).values  # -i-1 because of sort_index()"
   ]
  },
  {
   "cell_type": "code",
   "execution_count": 8,
   "metadata": {},
   "outputs": [
    {
     "output_type": "execute_result",
     "data": {
      "text/plain": [
       "                    unix      open      high       low     close  \\\n",
       "date                                                               \n",
       "2020-09-11  1.599863e+12  0.096630  0.096684  0.096581  0.096638   \n",
       "2020-09-12  1.599912e+12  0.096583  0.096634  0.096529  0.096585   \n",
       "2020-09-13  1.599998e+12  0.096170  0.096237  0.096100  0.096172   \n",
       "2020-09-14  1.600085e+12  0.095618  0.095688  0.095550  0.095622   \n",
       "2020-09-15  1.600171e+12  0.095509  0.095577  0.095440  0.095511   \n",
       "\n",
       "               Volume ADA   Volume USDT  tradecount  target_landing       y_0  \n",
       "date                                                                           \n",
       "2020-09-11  147057.625000  14221.708008   32.291458        0.096633  0.096582  \n",
       "2020-09-12  118968.531250  11502.777344   31.817362        0.096582  0.096169  \n",
       "2020-09-13  167744.078125  16108.962891   43.836807        0.096169  0.095619  \n",
       "2020-09-14  154802.890625  14840.880859   39.927776        0.095619  0.095508  \n",
       "2020-09-15  158953.546875  15184.172852   36.961113        0.095508  0.091198  "
      ],
      "text/html": "<div>\n<style scoped>\n    .dataframe tbody tr th:only-of-type {\n        vertical-align: middle;\n    }\n\n    .dataframe tbody tr th {\n        vertical-align: top;\n    }\n\n    .dataframe thead th {\n        text-align: right;\n    }\n</style>\n<table border=\"1\" class=\"dataframe\">\n  <thead>\n    <tr style=\"text-align: right;\">\n      <th></th>\n      <th>unix</th>\n      <th>open</th>\n      <th>high</th>\n      <th>low</th>\n      <th>close</th>\n      <th>Volume ADA</th>\n      <th>Volume USDT</th>\n      <th>tradecount</th>\n      <th>target_landing</th>\n      <th>y_0</th>\n    </tr>\n    <tr>\n      <th>date</th>\n      <th></th>\n      <th></th>\n      <th></th>\n      <th></th>\n      <th></th>\n      <th></th>\n      <th></th>\n      <th></th>\n      <th></th>\n      <th></th>\n    </tr>\n  </thead>\n  <tbody>\n    <tr>\n      <th>2020-09-11</th>\n      <td>1.599863e+12</td>\n      <td>0.096630</td>\n      <td>0.096684</td>\n      <td>0.096581</td>\n      <td>0.096638</td>\n      <td>147057.625000</td>\n      <td>14221.708008</td>\n      <td>32.291458</td>\n      <td>0.096633</td>\n      <td>0.096582</td>\n    </tr>\n    <tr>\n      <th>2020-09-12</th>\n      <td>1.599912e+12</td>\n      <td>0.096583</td>\n      <td>0.096634</td>\n      <td>0.096529</td>\n      <td>0.096585</td>\n      <td>118968.531250</td>\n      <td>11502.777344</td>\n      <td>31.817362</td>\n      <td>0.096582</td>\n      <td>0.096169</td>\n    </tr>\n    <tr>\n      <th>2020-09-13</th>\n      <td>1.599998e+12</td>\n      <td>0.096170</td>\n      <td>0.096237</td>\n      <td>0.096100</td>\n      <td>0.096172</td>\n      <td>167744.078125</td>\n      <td>16108.962891</td>\n      <td>43.836807</td>\n      <td>0.096169</td>\n      <td>0.095619</td>\n    </tr>\n    <tr>\n      <th>2020-09-14</th>\n      <td>1.600085e+12</td>\n      <td>0.095618</td>\n      <td>0.095688</td>\n      <td>0.095550</td>\n      <td>0.095622</td>\n      <td>154802.890625</td>\n      <td>14840.880859</td>\n      <td>39.927776</td>\n      <td>0.095619</td>\n      <td>0.095508</td>\n    </tr>\n    <tr>\n      <th>2020-09-15</th>\n      <td>1.600171e+12</td>\n      <td>0.095509</td>\n      <td>0.095577</td>\n      <td>0.095440</td>\n      <td>0.095511</td>\n      <td>158953.546875</td>\n      <td>15184.172852</td>\n      <td>36.961113</td>\n      <td>0.095508</td>\n      <td>0.091198</td>\n    </tr>\n  </tbody>\n</table>\n</div>"
     },
     "metadata": {},
     "execution_count": 8
    }
   ],
   "source": [
    "data.head()"
   ]
  },
  {
   "cell_type": "code",
   "execution_count": 9,
   "metadata": {},
   "outputs": [],
   "source": [
    "features = ['open', 'high', 'low', 'close' ,'Volume ADA', 'tradecount']"
   ]
  },
  {
   "cell_type": "code",
   "execution_count": 10,
   "metadata": {},
   "outputs": [],
   "source": [
    "data = data[[*features, *targets]]"
   ]
  },
  {
   "cell_type": "code",
   "execution_count": 11,
   "metadata": {},
   "outputs": [
    {
     "output_type": "execute_result",
     "data": {
      "text/plain": [
       "                open      high       low     close     Volume ADA  tradecount  \\\n",
       "date                                                                            \n",
       "2020-09-11  0.096630  0.096684  0.096581  0.096638  147057.625000   32.291458   \n",
       "2020-09-12  0.096583  0.096634  0.096529  0.096585  118968.531250   31.817362   \n",
       "2020-09-13  0.096170  0.096237  0.096100  0.096172  167744.078125   43.836807   \n",
       "2020-09-14  0.095618  0.095688  0.095550  0.095622  154802.890625   39.927776   \n",
       "2020-09-15  0.095509  0.095577  0.095440  0.095511  158953.546875   36.961113   \n",
       "\n",
       "                 y_0  \n",
       "date                  \n",
       "2020-09-11  0.096582  \n",
       "2020-09-12  0.096169  \n",
       "2020-09-13  0.095619  \n",
       "2020-09-14  0.095508  \n",
       "2020-09-15  0.091198  "
      ],
      "text/html": "<div>\n<style scoped>\n    .dataframe tbody tr th:only-of-type {\n        vertical-align: middle;\n    }\n\n    .dataframe tbody tr th {\n        vertical-align: top;\n    }\n\n    .dataframe thead th {\n        text-align: right;\n    }\n</style>\n<table border=\"1\" class=\"dataframe\">\n  <thead>\n    <tr style=\"text-align: right;\">\n      <th></th>\n      <th>open</th>\n      <th>high</th>\n      <th>low</th>\n      <th>close</th>\n      <th>Volume ADA</th>\n      <th>tradecount</th>\n      <th>y_0</th>\n    </tr>\n    <tr>\n      <th>date</th>\n      <th></th>\n      <th></th>\n      <th></th>\n      <th></th>\n      <th></th>\n      <th></th>\n      <th></th>\n    </tr>\n  </thead>\n  <tbody>\n    <tr>\n      <th>2020-09-11</th>\n      <td>0.096630</td>\n      <td>0.096684</td>\n      <td>0.096581</td>\n      <td>0.096638</td>\n      <td>147057.625000</td>\n      <td>32.291458</td>\n      <td>0.096582</td>\n    </tr>\n    <tr>\n      <th>2020-09-12</th>\n      <td>0.096583</td>\n      <td>0.096634</td>\n      <td>0.096529</td>\n      <td>0.096585</td>\n      <td>118968.531250</td>\n      <td>31.817362</td>\n      <td>0.096169</td>\n    </tr>\n    <tr>\n      <th>2020-09-13</th>\n      <td>0.096170</td>\n      <td>0.096237</td>\n      <td>0.096100</td>\n      <td>0.096172</td>\n      <td>167744.078125</td>\n      <td>43.836807</td>\n      <td>0.095619</td>\n    </tr>\n    <tr>\n      <th>2020-09-14</th>\n      <td>0.095618</td>\n      <td>0.095688</td>\n      <td>0.095550</td>\n      <td>0.095622</td>\n      <td>154802.890625</td>\n      <td>39.927776</td>\n      <td>0.095508</td>\n    </tr>\n    <tr>\n      <th>2020-09-15</th>\n      <td>0.095509</td>\n      <td>0.095577</td>\n      <td>0.095440</td>\n      <td>0.095511</td>\n      <td>158953.546875</td>\n      <td>36.961113</td>\n      <td>0.091198</td>\n    </tr>\n  </tbody>\n</table>\n</div>"
     },
     "metadata": {},
     "execution_count": 11
    }
   ],
   "source": [
    "data.head()"
   ]
  },
  {
   "cell_type": "code",
   "execution_count": 13,
   "metadata": {},
   "outputs": [],
   "source": [
    "def prepare_raw_data(path: str = './data/01_raw/Binance_ADAUSDT_minute.csv', aggregation = 'mean', resample = '15T') -> pd.DataFrame:\n",
    "    df = load_data(path, aggregation, resample)\n",
    "    features = ['open', 'high', 'low', 'close' ,'Volume ADA', 'tradecount']\n",
    "    target = (df.high + df.low) / 2\n",
    "    df['target_landing'] = target\n",
    "    n_preds = 1\n",
    "    targets = []\n",
    "    for i in range(n_preds):\n",
    "        col = f\"y_{i}\"\n",
    "        targets.append(col)\n",
    "        df[col] = np.nan\n",
    "        col_idx = df.columns.get_loc(col)\n",
    "        df.iloc[:, col_idx] = df.target_landing.shift(-i-1).values  # -i-1 because of sort_index()\n",
    "    return df[[*features, *targets]]"
   ]
  },
  {
   "cell_type": "code",
   "execution_count": 14,
   "metadata": {},
   "outputs": [],
   "source": [
    "data2 = prepare_raw_data()"
   ]
  },
  {
   "cell_type": "code",
   "execution_count": 15,
   "metadata": {},
   "outputs": [
    {
     "output_type": "execute_result",
     "data": {
      "text/plain": [
       "                         open      high       low     close     Volume ADA  \\\n",
       "date                                                                         \n",
       "2020-09-11 20:30:00  0.096222  0.096293  0.096195  0.096262  151668.406250   \n",
       "2020-09-11 20:45:00  0.096246  0.096292  0.096220  0.096258   66052.343750   \n",
       "2020-09-11 21:00:00  0.096455  0.096487  0.096425  0.096459   43088.125000   \n",
       "2020-09-11 21:15:00  0.096363  0.096383  0.096348  0.096365   11634.886719   \n",
       "2020-09-11 21:30:00  0.096422  0.096457  0.096397  0.096431   53965.679688   \n",
       "\n",
       "                     tradecount       y_0  \n",
       "date                                       \n",
       "2020-09-11 20:30:00   34.250000  0.096256  \n",
       "2020-09-11 20:45:00   18.933332  0.096456  \n",
       "2020-09-11 21:00:00   12.133333  0.096365  \n",
       "2020-09-11 21:15:00    9.133333  0.096427  \n",
       "2020-09-11 21:30:00   12.133333  0.096302  "
      ],
      "text/html": "<div>\n<style scoped>\n    .dataframe tbody tr th:only-of-type {\n        vertical-align: middle;\n    }\n\n    .dataframe tbody tr th {\n        vertical-align: top;\n    }\n\n    .dataframe thead th {\n        text-align: right;\n    }\n</style>\n<table border=\"1\" class=\"dataframe\">\n  <thead>\n    <tr style=\"text-align: right;\">\n      <th></th>\n      <th>open</th>\n      <th>high</th>\n      <th>low</th>\n      <th>close</th>\n      <th>Volume ADA</th>\n      <th>tradecount</th>\n      <th>y_0</th>\n    </tr>\n    <tr>\n      <th>date</th>\n      <th></th>\n      <th></th>\n      <th></th>\n      <th></th>\n      <th></th>\n      <th></th>\n      <th></th>\n    </tr>\n  </thead>\n  <tbody>\n    <tr>\n      <th>2020-09-11 20:30:00</th>\n      <td>0.096222</td>\n      <td>0.096293</td>\n      <td>0.096195</td>\n      <td>0.096262</td>\n      <td>151668.406250</td>\n      <td>34.250000</td>\n      <td>0.096256</td>\n    </tr>\n    <tr>\n      <th>2020-09-11 20:45:00</th>\n      <td>0.096246</td>\n      <td>0.096292</td>\n      <td>0.096220</td>\n      <td>0.096258</td>\n      <td>66052.343750</td>\n      <td>18.933332</td>\n      <td>0.096456</td>\n    </tr>\n    <tr>\n      <th>2020-09-11 21:00:00</th>\n      <td>0.096455</td>\n      <td>0.096487</td>\n      <td>0.096425</td>\n      <td>0.096459</td>\n      <td>43088.125000</td>\n      <td>12.133333</td>\n      <td>0.096365</td>\n    </tr>\n    <tr>\n      <th>2020-09-11 21:15:00</th>\n      <td>0.096363</td>\n      <td>0.096383</td>\n      <td>0.096348</td>\n      <td>0.096365</td>\n      <td>11634.886719</td>\n      <td>9.133333</td>\n      <td>0.096427</td>\n    </tr>\n    <tr>\n      <th>2020-09-11 21:30:00</th>\n      <td>0.096422</td>\n      <td>0.096457</td>\n      <td>0.096397</td>\n      <td>0.096431</td>\n      <td>53965.679688</td>\n      <td>12.133333</td>\n      <td>0.096302</td>\n    </tr>\n  </tbody>\n</table>\n</div>"
     },
     "metadata": {},
     "execution_count": 15
    }
   ],
   "source": [
    "data2.head()"
   ]
  },
  {
   "cell_type": "code",
   "execution_count": null,
   "metadata": {},
   "outputs": [],
   "source": []
  }
 ]
}